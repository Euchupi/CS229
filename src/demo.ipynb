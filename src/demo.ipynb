{
 "cells": [
  {
   "cell_type": "code",
   "execution_count": 1,
   "id": "16b7e014-8732-4012-8dc9-4f81c9e7281c",
   "metadata": {
    "tags": []
   },
   "outputs": [],
   "source": [
    "import utils\n",
    "import numpy as np"
   ]
  },
  {
   "cell_type": "code",
   "execution_count": 2,
   "id": "de173110-2664-4811-bb08-ac24df954ecf",
   "metadata": {
    "tags": []
   },
   "outputs": [],
   "source": [
    "# Create a Company Class Pointed at 'A', agilent\n",
    "firstcompany = utils.company('A')\n",
    "\n",
    "# Or we could get the first company from the function get_company_list\n",
    "firstcompany = utils.company(utils.get_company_list()[0])"
   ]
  },
  {
   "cell_type": "code",
   "execution_count": 3,
   "id": "7b7c23e1-ce96-4b4b-82f6-876ae0c60ef0",
   "metadata": {
    "tags": []
   },
   "outputs": [
    {
     "name": "stdout",
     "output_type": "stream",
     "text": [
      "2001-01-02T00:00:00.000000000 2023-09-29T00:00:00.000000000\n"
     ]
    }
   ],
   "source": [
    "# Show the original data range\n",
    "print(firstcompany.start, firstcompany.end)"
   ]
  },
  {
   "cell_type": "code",
   "execution_count": 4,
   "id": "1151b894-019a-4fa4-af55-46ce15cfdaf6",
   "metadata": {
    "tags": []
   },
   "outputs": [
    {
     "name": "stdout",
     "output_type": "stream",
     "text": [
      "2019-01-01 00:00:00 2020-10-01 00:00:00\n"
     ]
    }
   ],
   "source": [
    "# Update the data range \n",
    "firstcompany.update_time_range('2019-01-01','2020-10-01',30)\n",
    "# we study the data between 2010-01-01 and 2020-10-01, and the time interval is 30days \n",
    "print(firstcompany.start, firstcompany.end)"
   ]
  },
  {
   "cell_type": "code",
   "execution_count": 5,
   "id": "53aa24d8-286a-4a0f-9bc8-96ea1e07d68d",
   "metadata": {
    "tags": []
   },
   "outputs": [
    {
     "name": "stdout",
     "output_type": "stream",
     "text": [
      "price: [ 65.690002  76.050003  81.239998  80.379997  77.330002  67.080002\n",
      "  72.510002  69.580002  72.199997  78.07      74.919998  78.260002\n",
      "  84.449997  88.620003  85.470001  69.199997  76.209999  81.269997\n",
      "  89.769997  89.540001  97.889999 103.419998]\n"
     ]
    }
   ],
   "source": [
    "# fetch a single data , for example , the price \n",
    "price = firstcompany.read_single_data(('price','Close'))\n",
    "print(\"price: {}\".format(price))"
   ]
  },
  {
   "cell_type": "code",
   "execution_count": 6,
   "id": "9d105ddf-a76b-47b6-bdf0-3f34defdb58e",
   "metadata": {
    "tags": []
   },
   "outputs": [
    {
     "name": "stdout",
     "output_type": "stream",
     "text": [
      "Time: [Timestamp('2019-01-01 00:00:00') Timestamp('2019-01-31 00:00:00')\n",
      " Timestamp('2019-03-02 00:00:00') Timestamp('2019-04-01 00:00:00')\n",
      " Timestamp('2019-05-01 00:00:00') Timestamp('2019-05-31 00:00:00')\n",
      " Timestamp('2019-06-30 00:00:00') Timestamp('2019-07-30 00:00:00')\n",
      " Timestamp('2019-08-29 00:00:00') Timestamp('2019-09-28 00:00:00')\n",
      " Timestamp('2019-10-28 00:00:00') Timestamp('2019-11-27 00:00:00')\n",
      " Timestamp('2019-12-27 00:00:00') Timestamp('2020-01-26 00:00:00')\n",
      " Timestamp('2020-02-25 00:00:00') Timestamp('2020-03-26 00:00:00')\n",
      " Timestamp('2020-04-25 00:00:00') Timestamp('2020-05-25 00:00:00')\n",
      " Timestamp('2020-06-24 00:00:00') Timestamp('2020-07-24 00:00:00')\n",
      " Timestamp('2020-08-23 00:00:00') Timestamp('2020-09-22 00:00:00')]\n"
     ]
    }
   ],
   "source": [
    "# But we also need the time for the price\n",
    "print(\"Time: {}\".format(firstcompany.time_series))\n",
    "# The end time may not be exactly 2020-10-01 because of the interval we set "
   ]
  },
  {
   "cell_type": "code",
   "execution_count": 7,
   "id": "ba6eead8-f4e4-4bd8-905b-5b2a7d20ef01",
   "metadata": {
    "tags": []
   },
   "outputs": [
    {
     "name": "stdout",
     "output_type": "stream",
     "text": [
      "2 22 (3, 22)\n"
     ]
    }
   ],
   "source": [
    "# fetch a list of data, it will return a tuple of (time_series , and data )\n",
    "data = firstcompany.read_data([('price','Close'),('balance','CurrentAssets'),('esg','S&P Global ESG Score')])\n",
    "# The data is a n*m 2d array, the n is the number of parameters and the m the number of datapoints\n",
    "# The time series also have the length of m \n",
    "print(len(data),  len(data[0]),np.shape(data[1]))"
   ]
  },
  {
   "cell_type": "markdown",
   "id": "8bc3187e-8d70-4c2b-960f-0d4542679f31",
   "metadata": {},
   "source": [
    "# ML Demo"
   ]
  },
  {
   "cell_type": "code",
   "execution_count": 13,
   "id": "d06ec084-1584-450d-85ac-b22d6dbe2b01",
   "metadata": {
    "tags": []
   },
   "outputs": [],
   "source": [
    "firstcompany = utils.company('AAPL')\n",
    "data = firstcompany.read_data([('price','Close'),('balance','CurrentAssets')])"
   ]
  },
  {
   "cell_type": "code",
   "execution_count": 15,
   "id": "1127aaa3-a867-49d3-aa26-aa38c3bde701",
   "metadata": {
    "tags": []
   },
   "outputs": [],
   "source": [
    "# And then we will have a linear regression demo \n",
    "# The first row is price , the second row is CurrentAssets \n",
    "y = data[1][0]\n",
    "data_x = data[1][1]"
   ]
  },
  {
   "cell_type": "code",
   "execution_count": 17,
   "id": "7e8059b5-4ea1-4d2a-a56d-f2d84d3fbcf3",
   "metadata": {
    "tags": []
   },
   "outputs": [
    {
     "data": {
      "text/plain": [
       "array([-3.22716466e-10,  3.40846543e+01])"
      ]
     },
     "execution_count": 17,
     "metadata": {},
     "output_type": "execute_result"
    }
   ],
   "source": [
    "np.polyfit(data_x, y, 1)"
   ]
  },
  {
   "cell_type": "code",
   "execution_count": 19,
   "id": "155e8d6f-7681-423b-91a5-8dd1449da951",
   "metadata": {
    "tags": []
   },
   "outputs": [
    {
     "data": {
      "text/plain": [
       "[<matplotlib.lines.Line2D at 0x15ec5d210>]"
      ]
     },
     "execution_count": 19,
     "metadata": {},
     "output_type": "execute_result"
    },
    {
     "data": {
      "image/png": "[encoded data removed]",
      "text/plain": [
       "<Figure size 640x480 with 1 Axes>"
      ]
     },
     "metadata": {},
     "output_type": "display_data"
    }
   ],
   "source": [
    "from matplotlib import pyplot as plt\n",
    "plt.scatter(data_x , y)\n",
    "plt.plot(data_x ,np.polyfit(data_x, y, 1)[0]* data_x + np.polyfit(data_x, y, 1)[1] )"
   ]
  },
  {
   "cell_type": "code",
   "execution_count": null,
   "id": "b84a2475-c2a1-43d9-af91-bcbe74f2a431",
   "metadata": {},
   "outputs": [],
   "source": []
  }
 ],
 "metadata": {
  "kernelspec": {
   "display_name": "Python 3 (ipykernel)",
   "language": "python",
   "name": "python3"
  },
  "language_info": {
   "codemirror_mode": {
    "name": "ipython",
    "version": 3
   },
   "file_extension": ".py",
   "mimetype": "text/x-python",
   "name": "python",
   "nbconvert_exporter": "python",
   "pygments_lexer": "ipython3",
   "version": "3.11.5"
  }
 },
 "nbformat": 4,
 "nbformat_minor": 5
}
