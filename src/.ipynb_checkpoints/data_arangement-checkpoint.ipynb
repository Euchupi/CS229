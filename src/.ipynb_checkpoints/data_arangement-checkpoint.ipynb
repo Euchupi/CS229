{
 "cells": [
  {
   "cell_type": "code",
   "execution_count": 8,
   "id": "c4f267ad",
   "metadata": {},
   "outputs": [],
   "source": [
    "import os\n",
    "# Get the list of companies\n",
    "company_list= os.listdir(\"../price\")\n",
    "\n",
    "company_list= [i for i in company_list if i.split(\".\")[-1]=='csv']"
   ]
  },
  {
   "cell_type": "code",
   "execution_count": 19,
   "id": "2229f946",
   "metadata": {},
   "outputs": [],
   "source": [
    "# Create the directory for each item in the company list\n",
    "for i in company_list: \n",
    "    if os.path.exists(\"../features/{}\".format(i.split(\".\")[0]))==False :\n",
    "        os.mkdir(\"../features/{}\".format(i.split(\".\")[0]))"
   ]
  }
 ],
 "metadata": {
  "kernelspec": {
   "display_name": "Python 3 (ipykernel)",
   "language": "python",
   "name": "python3"
  },
  "language_info": {
   "codemirror_mode": {
    "name": "ipython",
    "version": 3
   },
   "file_extension": ".py",
   "mimetype": "text/x-python",
   "name": "python",
   "nbconvert_exporter": "python",
   "pygments_lexer": "ipython3",
   "version": "3.9.8"
  }
 },
 "nbformat": 4,
 "nbformat_minor": 5
}
