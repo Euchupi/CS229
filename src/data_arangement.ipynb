{
 "cells": [
  {
   "cell_type": "code",
   "execution_count": 1,
   "id": "c4f267ad",
   "metadata": {},
   "outputs": [],
   "source": [
    "import os\n",
    "import shutil"
   ]
  },
  {
   "cell_type": "code",
   "execution_count": 19,
   "id": "2229f946",
   "metadata": {},
   "outputs": [],
   "source": [
    "# Create the directory for each item in the company list\n",
    "\n",
    "# Do not use this now ... \n",
    "'''\n",
    "# Get the list of companies\n",
    "company_list= os.listdir(\"../price\")\n",
    "company_list= [i for i in company_list if i.split(\".\")[-1]=='csv']\n",
    "\n",
    "for i in company_list: \n",
    "    if os.path.exists(\"../features/{}\".format(i.split(\".\")[0]))==False :\n",
    "        os.mkdir(\"../features/{}\".format(i.split(\".\")[0]))\n",
    "'''"
   ]
  },
  {
   "cell_type": "code",
   "execution_count": 28,
   "id": "e70f8b03",
   "metadata": {},
   "outputs": [],
   "source": [
    "# Move the raw data to where they belong to \n",
    "data_list = os.listdir(\"../rawdata\")\n",
    "data_list = [i for i in data_list if i.split(\".\")[-1]=='csv']\n",
    "\n",
    "for i in data_list: \n",
    "    if 'quarterly_cash-flow' in i :\n",
    "        shutil.move('../rawdata/{}'.format(i),'../data/cashflow')\n",
    "    elif 'quarterly_balance-sheet' in i : \n",
    "        shutil.move('../rawdata/{}'.format(i),'../data/balance')\n",
    "    elif 'quarterly_financials' in i : \n",
    "        shutil.move('../rawdata/{}'.format(i),'../data/financials')\n",
    "    elif 'monthly_valuation_measures' in i : \n",
    "        shutil.move('../rawdata/{}'.format(i),'../data/valuation')\n",
    "    else : \n",
    "        pass"
   ]
  },
  {
   "cell_type": "code",
   "execution_count": 4,
   "id": "5a04940f",
   "metadata": {},
   "outputs": [],
   "source": [
    "# Rename the file name to the ticker name + \"directory name\"\n",
    "dir_list=['balance','cashflow','financials','valuation','price','esg']\n",
    "for dirname in dir_list :\n",
    "    data_list = os.listdir(\"../data/{}\".format(dirname))\n",
    "    data_list = [i for i in data_list if i.split(\".\")[-1]=='csv']\n",
    "    for i in data_list : \n",
    "        shutil.move('../data/{}/{}'.format(dirname,i),'../data/{}/{}_{}.csv'.format(dirname,i.split(\"_\")[0],dirname))    "
   ]
  },
  {
   "cell_type": "code",
   "execution_count": null,
   "id": "8c6c6a5c-1d03-46e1-8250-d2a445dd1712",
   "metadata": {},
   "outputs": [],
   "source": []
  }
 ],
 "metadata": {
  "kernelspec": {
   "display_name": "Python 3 (ipykernel)",
   "language": "python",
   "name": "python3"
  },
  "language_info": {
   "codemirror_mode": {
    "name": "ipython",
    "version": 3
   },
   "file_extension": ".py",
   "mimetype": "text/x-python",
   "name": "python",
   "nbconvert_exporter": "python",
   "pygments_lexer": "ipython3",
   "version": "3.11.5"
  }
 },
 "nbformat": 4,
 "nbformat_minor": 5
}
