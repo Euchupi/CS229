{
 "cells": [
  {
   "cell_type": "code",
   "execution_count": 2,
   "id": "c4f267ad",
   "metadata": {},
   "outputs": [],
   "source": [
    "import os\n",
    "import shutil"
   ]
  },
  {
   "cell_type": "code",
   "execution_count": 19,
   "id": "2229f946",
   "metadata": {},
   "outputs": [],
   "source": [
    "# Create the directory for each item in the company list\n",
    "\n",
    "# Do not use this now ... \n",
    "'''\n",
    "# Get the list of companies\n",
    "company_list= os.listdir(\"../price\")\n",
    "company_list= [i for i in company_list if i.split(\".\")[-1]=='csv']\n",
    "\n",
    "for i in company_list: \n",
    "    if os.path.exists(\"../features/{}\".format(i.split(\".\")[0]))==False :\n",
    "        os.mkdir(\"../features/{}\".format(i.split(\".\")[0]))\n",
    "'''"
   ]
  },
  {
   "cell_type": "code",
   "execution_count": 28,
   "id": "e70f8b03",
   "metadata": {},
   "outputs": [],
   "source": [
    "# Move the raw data to where they belong to \n",
    "\n",
    "data_list = os.listdir(\"../rawdata\")\n",
    "data_list = [i for i in data_list if i.split(\".\")[-1]=='csv']\n",
    "\n",
    "for i in data_list: \n",
    "    if 'quarterly_cash-flow' in i :\n",
    "        shutil.move('../rawdata/{}'.format(i),'../features/cashflow')\n",
    "    elif 'quarterly_balance-sheet' in i : \n",
    "        shutil.move('../rawdata/{}'.format(i),'../features/balance')\n",
    "    elif 'quarterly_financials' in i : \n",
    "        shutil.move('../rawdata/{}'.format(i),'../features/financials')\n",
    "    elif 'monthly_valuation_measures' in i : \n",
    "        shutil.move('../rawdata/{}'.format(i),'../features/valuation')\n",
    "    else : \n",
    "        pass\n",
    "\n"
   ]
  },
  {
   "cell_type": "code",
   "execution_count": 1,
   "id": "5a04940f",
   "metadata": {},
   "outputs": [
    {
     "ename": "NameError",
     "evalue": "name 'data_list' is not defined",
     "output_type": "error",
     "traceback": [
      "\u001b[0;31m---------------------------------------------------------------------------\u001b[0m",
      "\u001b[0;31mNameError\u001b[0m                                 Traceback (most recent call last)",
      "Cell \u001b[0;32mIn[1], line 1\u001b[0m\n\u001b[0;32m----> 1\u001b[0m \u001b[43mdata_list\u001b[49m\n",
      "\u001b[0;31mNameError\u001b[0m: name 'data_list' is not defined"
     ]
    }
   ],
   "source": [
    "data_list"
   ]
  },
  {
   "cell_type": "code",
   "execution_count": 4,
   "id": "7cb53eb7-d7af-40d2-9d0c-eabebccbc21d",
   "metadata": {},
   "outputs": [],
   "source": [
    "data_list = os.listdir(\"../data/balance\")\n",
    "data_list = [i for i in data_list if i.split(\".\")[-1]=='csv']\n",
    "for i in data_list"
   ]
  },
  {
   "cell_type": "code",
   "execution_count": 8,
   "id": "26831457-ea68-4c00-a4b2-c6f2ca977ae0",
   "metadata": {},
   "outputs": [
    {
     "data": {
      "text/plain": [
       "'AWK.csv'"
      ]
     },
     "execution_count": 8,
     "metadata": {},
     "output_type": "execute_result"
    }
   ],
   "source": [
    "data_list[0].split(\"_\")[0]+'.csv'"
   ]
  }
 ],
 "metadata": {
  "kernelspec": {
   "display_name": "Python 3 (ipykernel)",
   "language": "python",
   "name": "python3"
  },
  "language_info": {
   "codemirror_mode": {
    "name": "ipython",
    "version": 3
   },
   "file_extension": ".py",
   "mimetype": "text/x-python",
   "name": "python",
   "nbconvert_exporter": "python",
   "pygments_lexer": "ipython3",
   "version": "3.9.8"
  }
 },
 "nbformat": 4,
 "nbformat_minor": 5
}
